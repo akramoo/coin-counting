{
 "cells": [
  {
   "cell_type": "code",
   "execution_count": null,
   "id": "3a50b840-683c-44d8-9fa2-3c51f4d1ff7b",
   "metadata": {},
   "outputs": [
    {
     "name": "stdout",
     "output_type": "stream",
     "text": [
      "2024-12-02 16:24:47.299 Python[14493:7142561] +[IMKClient subclass]: chose IMKClient_Modern\n",
      "2024-12-02 16:24:47.299 Python[14493:7142561] +[IMKInputSession subclass]: chose IMKInputSession_Modern\n",
      "2024-12-02 16:24:51.387 Python[14493:7142561] The class 'NSOpenPanel' overrides the method identifier.  This method is implemented by class 'NSWindow'\n",
      "2024-12-02 16:24:55,408 - INFO - Initialisation de ImageProcessor avec l'image : /Users/chawkibhd/Desktop/dataset/1/coins_images/coins_images/all_coins/0bcb8457d5.jpg\n",
      "2024-12-02 16:24:55,433 - INFO - Chargement de l'image depuis le chemin : /Users/chawkibhd/Desktop/dataset/1/coins_images/coins_images/all_coins/0bcb8457d5.jpg\n",
      "2024-12-02 16:24:55,451 - INFO - Calcul des statistiques de l'image\n",
      "2024-12-02 16:24:55,461 - INFO - Détermination des besoins de prétraitement en fonction des statistiques de l'image\n",
      "2024-12-02 16:24:55,461 - INFO - Détermination des besoins de prétraitement en fonction des statistiques de l'image\n",
      "2024-12-02 16:24:55,461 - INFO - Traitement de l'image en fonction des besoins déterminés\n",
      "2024-12-02 16:24:55,465 - INFO - Calcul des statistiques de l'image\n",
      "2024-12-02 16:24:55,496 - INFO - Détermination des besoins de prétraitement en fonction des statistiques de l'image\n",
      "2024-12-02 16:24:55,501 - INFO - Calcul des statistiques de l'image\n",
      "2024-12-02 16:24:55,526 - INFO - Statistiques après traitement : (123.6451958743973, 64.81273676214379, 0, 255, 124.5787486933107)\n",
      "2024-12-02 16:24:55,536 - INFO - Segmentation de l'image avec la méthode d'Otsu\n",
      "2024-12-02 16:24:55,539 - INFO - Calcul du seuil optimal avec la méthode d'Otsu pour la segmentation\n",
      "Figure(1000x500)\n",
      "2024-12-02 16:24:55,843 - INFO - Seuil optimal trouvé par la méthode d'Otsu : 85\n",
      "2024-12-02 16:24:55,851 - INFO - Image binaire sauvegardée à : segmented_image.jpg\n",
      "2024-12-02 16:24:55,851 - INFO - Tentative de chargement de l'image : segmented_image.jpg\n",
      "2024-12-02 16:24:55,860 - INFO - Image chargée avec succès : segmented_image.jpg\n",
      "2024-12-02 16:24:55,860 - INFO - Initialisation de FilterModule avec 1 image(s) valide(s)\n",
      "2024-12-02 16:24:55,860 - INFO - Détermination des besoins en filtrage de l'image\n",
      "2024-12-02 16:24:55,860 - INFO - Application des filtres nécessaires sur l'image\n",
      "2024-12-02 16:24:55,860 - INFO - Application du filtre moyenne\n",
      "2024-12-02 16:24:55,937 - INFO - Application du filtre gaussien\n",
      "2024-12-02 16:24:56,014 - INFO - Application du filtre median\n",
      "2024-12-02 16:24:56,559 - INFO - Initialisation de ImageProcessor avec l'image : /Users/chawkibhd/Desktop/dataset/1/coins_images/coins_images/all_coins/0bcb8457d5.jpg\n",
      "2024-12-02 16:24:56,583 - INFO - Chargement de l'image depuis le chemin : /Users/chawkibhd/Desktop/dataset/1/coins_images/coins_images/all_coins/0bcb8457d5.jpg\n",
      "2024-12-02 16:24:56,600 - INFO - Calcul des statistiques de l'image\n",
      "2024-12-02 16:24:56,607 - INFO - Détermination des besoins de prétraitement en fonction des statistiques de l'image\n",
      "2024-12-02 16:24:56,607 - INFO - Détermination des besoins de prétraitement en fonction des statistiques de l'image\n",
      "2024-12-02 16:24:56,607 - INFO - Traitement de l'image en fonction des besoins déterminés\n",
      "2024-12-02 16:24:56,610 - INFO - Calcul des statistiques de l'image\n",
      "2024-12-02 16:24:56,635 - INFO - Détermination des besoins de prétraitement en fonction des statistiques de l'image\n",
      "2024-12-02 16:24:56,638 - INFO - Calcul des statistiques de l'image\n",
      "2024-12-02 16:24:56,662 - INFO - Statistiques après traitement : (123.6451958743973, 64.81273676214379, 0, 255, 124.5787486933107)\n",
      "2024-12-02 16:24:56,671 - INFO - Segmentation de l'image avec la méthode d'Otsu\n",
      "2024-12-02 16:24:56,674 - INFO - Calcul du seuil optimal avec la méthode d'Otsu pour la segmentation\n",
      "Figure(1000x500)\n",
      "2024-12-02 16:24:56,705 - INFO - Seuil optimal trouvé par la méthode d'Otsu : 85\n",
      "2024-12-02 16:24:56,712 - INFO - Image binaire sauvegardée à : segmented_image.jpg\n",
      "2024-12-02 16:24:56,713 - INFO - Tentative de chargement de l'image : segmented_image.jpg\n",
      "2024-12-02 16:24:56,721 - INFO - Image chargée avec succès : segmented_image.jpg\n",
      "2024-12-02 16:24:56,721 - INFO - Initialisation de FilterModule avec 1 image(s) valide(s)\n",
      "2024-12-02 16:24:56,721 - INFO - Détermination des besoins en filtrage de l'image\n",
      "2024-12-02 16:24:56,721 - INFO - Application des filtres nécessaires sur l'image\n",
      "2024-12-02 16:24:56,721 - INFO - Application du filtre moyenne\n",
      "2024-12-02 16:24:56,797 - INFO - Application du filtre gaussien\n",
      "2024-12-02 16:24:56,874 - INFO - Application du filtre median\n"
     ]
    }
   ],
   "source": [
    "!python3 main.py"
   ]
  },
  {
   "cell_type": "code",
   "execution_count": null,
   "id": "fd8cf9b3-d647-4e13-a7fe-92d7ec2f0008",
   "metadata": {},
   "outputs": [],
   "source": []
  }
 ],
 "metadata": {
  "kernelspec": {
   "display_name": "Python 3 (ipykernel)",
   "language": "python",
   "name": "python3"
  },
  "language_info": {
   "codemirror_mode": {
    "name": "ipython",
    "version": 3
   },
   "file_extension": ".py",
   "mimetype": "text/x-python",
   "name": "python",
   "nbconvert_exporter": "python",
   "pygments_lexer": "ipython3",
   "version": "3.12.0"
  }
 },
 "nbformat": 4,
 "nbformat_minor": 5
}
