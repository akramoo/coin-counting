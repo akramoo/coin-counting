{
 "cells": [
  {
   "cell_type": "code",
   "execution_count": null,
   "id": "3a50b840-683c-44d8-9fa2-3c51f4d1ff7b",
   "metadata": {},
   "outputs": [
    {
     "name": "stdout",
     "output_type": "stream",
     "text": [
      "2024-12-03 14:04:39.891 Python[16380:7290173] +[IMKClient subclass]: chose IMKClient_Modern\n",
      "2024-12-03 14:04:39.891 Python[16380:7290173] +[IMKInputSession subclass]: chose IMKInputSession_Modern\n",
      "2024-12-03 14:04:45.224 Python[16380:7290173] The class 'NSOpenPanel' overrides the method identifier.  This method is implemented by class 'NSWindow'\n",
      "2024-12-03 14:05:07,027 - INFO - Initialisation de ImageProcessor avec l'image : /Users/chawkibhd/Desktop/dataset/1/coins_images/coins_images/peso_coins/41f86ed20a.jpg\n",
      "2024-12-03 14:05:07,029 - INFO - Chargement de l'image depuis le chemin : /Users/chawkibhd/Desktop/dataset/1/coins_images/coins_images/peso_coins/41f86ed20a.jpg\n",
      "2024-12-03 14:05:07,030 - INFO - Calcul des statistiques de l'image\n",
      "2024-12-03 14:05:07,031 - INFO - Détermination des besoins de prétraitement en fonction des statistiques de l'image\n",
      "2024-12-03 14:05:07,032 - INFO - Détermination des besoins de prétraitement en fonction des statistiques de l'image\n",
      "2024-12-03 14:05:07,032 - INFO - Traitement de l'image en fonction des besoins déterminés\n",
      "2024-12-03 14:05:07,032 - INFO - Calcul des statistiques de l'image\n",
      "2024-12-03 14:05:07,033 - INFO - Détermination des besoins de prétraitement en fonction des statistiques de l'image\n",
      "2024-12-03 14:05:07,034 - INFO - Calcul des statistiques de l'image\n",
      "2024-12-03 14:05:07,035 - INFO - Statistiques après traitement : (181.329357518986, 75.73422170881346, 0, 255, 183.10309994443122)\n",
      "2024-12-03 14:05:07,038 - INFO - Segmentation de l'image avec la méthode d'Otsu\n",
      "2024-12-03 14:05:07,038 - INFO - Calcul du seuil optimal avec la méthode d'Otsu pour la segmentation\n",
      "Figure(1000x500)\n",
      "2024-12-03 14:05:07,368 - INFO - Seuil optimal trouvé par la méthode d'Otsu : 154\n",
      "2024-12-03 14:05:07,371 - INFO - Image binaire sauvegardée à : segmented_image.jpg\n",
      "2024-12-03 14:05:07,371 - INFO - Tentative de chargement de l'image : segmented_image.jpg\n",
      "2024-12-03 14:05:07,372 - INFO - Image chargée avec succès : segmented_image.jpg\n",
      "2024-12-03 14:05:07,372 - INFO - Initialisation de FilterModule avec 1 image(s) valide(s)\n",
      "2024-12-03 14:05:07,372 - INFO - Détermination des besoins en filtrage de l'image\n",
      "2024-12-03 14:05:07,372 - INFO - Application des filtres nécessaires sur l'image\n",
      "2024-12-03 14:05:07,372 - INFO - Application du filtre moyenne\n",
      "2024-12-03 14:05:07,374 - INFO - Application du filtre gaussien\n",
      "2024-12-03 14:05:07,376 - INFO - Application du filtre median\n"
     ]
    }
   ],
   "source": [
    "!python3 main.py"
   ]
  },
  {
   "cell_type": "code",
   "execution_count": null,
   "id": "fd8cf9b3-d647-4e13-a7fe-92d7ec2f0008",
   "metadata": {},
   "outputs": [],
   "source": []
  }
 ],
 "metadata": {
  "kernelspec": {
   "display_name": "Python 3 (ipykernel)",
   "language": "python",
   "name": "python3"
  },
  "language_info": {
   "codemirror_mode": {
    "name": "ipython",
    "version": 3
   },
   "file_extension": ".py",
   "mimetype": "text/x-python",
   "name": "python",
   "nbconvert_exporter": "python",
   "pygments_lexer": "ipython3",
   "version": "3.12.0"
  }
 },
 "nbformat": 4,
 "nbformat_minor": 5
}
