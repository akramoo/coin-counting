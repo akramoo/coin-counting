{
 "cells": [
  {
   "cell_type": "code",
   "execution_count": null,
   "id": "db118ea1-73ad-471a-910c-8761fe42217c",
   "metadata": {},
   "outputs": [
    {
     "name": "stderr",
     "output_type": "stream",
     "text": [
      "2024-11-23 18:29:41.665 Python[86404:4613358] +[IMKClient subclass]: chose IMKClient_Modern\n",
      "2024-11-23 18:29:41.666 Python[86404:4613358] +[IMKInputSession subclass]: chose IMKInputSession_Modern\n"
     ]
    }
   ],
   "source": [
    "import cv2\n",
    "import numpy as np\n",
    "from tkinter import Tk, filedialog, Button, Label, Canvas\n",
    "from PIL import Image, ImageTk\n",
    "import os\n",
    "\n",
    "# Fonction pour charger et segmenter l'image\n",
    "def segmenter_image():\n",
    "    # Ouvrir une fenêtre pour sélectionner l'image\n",
    "    chemin_image = filedialog.askopenfilename(title=\"Sélectionner une image\", filetypes=[(\"Image Files\", \"*.jpg;*.jpeg;*.png\")])\n",
    "    \n",
    "    # Charger l'image\n",
    "    image = cv2.imread(chemin_image)\n",
    "    gris = cv2.cvtColor(image, cv2.COLOR_BGR2GRAY)  # Convertir en niveaux de gris\n",
    "    \n",
    "    # Appliquer un flou pour réduire le bruit\n",
    "    flou = cv2.GaussianBlur(gris, (5, 5), 0)\n",
    "    \n",
    "    # Seuil pour binariser l'image\n",
    "    _, seuil = cv2.threshold(flou, 127, 255, cv2.THRESH_BINARY_INV)\n",
    "    \n",
    "    # Trouver les contours (segments)\n",
    "    contours, _ = cv2.findContours(seuil, cv2.RETR_EXTERNAL, cv2.CHAIN_APPROX_SIMPLE)\n",
    "    \n",
    "    # Dessiner les contours sur l'image originale\n",
    "    image_segmentee = image.copy()\n",
    "    cv2.drawContours(image_segmentee, contours, -1, (0, 255, 0), 2)\n",
    "    \n",
    "    # Compter le nombre de pièces\n",
    "    nombre_pieces = len(contours)\n",
    "    \n",
    "    # Afficher l'image segmentée\n",
    "    afficher_image_segmentee(image_segmentee)\n",
    "    \n",
    "    # Afficher le nombre de pièces détectées\n",
    "    label_nombre_pieces.config(text=f\"Nombre de pièces : {nombre_pieces}\")\n",
    "\n",
    "# Fonction pour afficher l'image segmentée dans l'interface\n",
    "def afficher_image_segmentee(image_segmentee):\n",
    "    # Convertir l'image de OpenCV (BGR) à PIL (RGB)\n",
    "    image_segmentee_rgb = cv2.cvtColor(image_segmentee, cv2.COLOR_BGR2RGB)\n",
    "    image_pil = Image.fromarray(image_segmentee_rgb)\n",
    "    \n",
    "    # Convertir l'image PIL en format compatible avec Tkinter\n",
    "    image_tk = ImageTk.PhotoImage(image_pil)\n",
    "    \n",
    "    # Afficher l'image sur le canevas\n",
    "    canvas.create_image(0, 0, anchor='nw', image=image_tk)\n",
    "    canvas.image = image_tk\n",
    "\n",
    "# Créer la fenêtre principale\n",
    "fenetre = Tk()\n",
    "fenetre.title(\"Segmentation d'image\")\n",
    "\n",
    "# Créer un bouton pour charger et segmenter l'image\n",
    "bouton_segmenter = Button(fenetre, text=\"Charger et segmenter une image\", command=segmenter_image)\n",
    "bouton_segmenter.pack()\n",
    "\n",
    "# Créer un label pour afficher le nombre de pièces\n",
    "label_nombre_pieces = Label(fenetre, text=\"Nombre de pièces : 0\")\n",
    "label_nombre_pieces.pack()\n",
    "\n",
    "# Créer un canevas pour afficher l'image\n",
    "canvas = Canvas(fenetre, width=600, height=600)\n",
    "canvas.pack()\n",
    "os.environ['TK_SILENCE_DEPRECATION'] = '1'\n",
    "# Démarrer l'interface graphique\n",
    "fenetre.mainloop()"
   ]
  },
  {
   "cell_type": "code",
   "execution_count": null,
   "id": "7e63afc5-ad2f-4a53-a1a9-49c8289cd647",
   "metadata": {},
   "outputs": [],
   "source": []
  }
 ],
 "metadata": {
  "kernelspec": {
   "display_name": "Python 3 (ipykernel)",
   "language": "python",
   "name": "python3"
  },
  "language_info": {
   "codemirror_mode": {
    "name": "ipython",
    "version": 3
   },
   "file_extension": ".py",
   "mimetype": "text/x-python",
   "name": "python",
   "nbconvert_exporter": "python",
   "pygments_lexer": "ipython3",
   "version": "3.12.0"
  }
 },
 "nbformat": 4,
 "nbformat_minor": 5
}
