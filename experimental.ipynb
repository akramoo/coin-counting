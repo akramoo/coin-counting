{
 "cells": [
  {
   "cell_type": "code",
   "execution_count": null,
   "metadata": {},
   "outputs": [],
   "source": [
    "# Imports PIL module\n",
    "from PIL import Image\n",
    "\n",
    "# open method used to open different extension image file\n",
    "im = Image.open(\"../coin-counting/dataset/coins_images/coins_images/all_coins/01207e3d7e.jpg\")\n",
    "\n",
    "# This method will show image in any image viewer\n",
    "im.resize(250)"
   ]
  },
  {
   "cell_type": "code",
   "execution_count": null,
   "metadata": {},
   "outputs": [],
   "source": [
    "import os\n",
    "import numpy as np\n",
    "import pandas as pd\n",
    "from PIL import Image\n",
    "import matplotlib.pyplot as plt\n",
    "\n",
    "csv_path = '/Users/chawkibhd/Desktop/dataset/1/coins_count_values.csv'\n",
    "data = pd.read_csv(csv_path)\n",
    "base_image_path = '/Users/chawkibhd/Desktop/dataset/1/coins_images/coins_images'\n",
    "image_data_list = []\n",
    "for index, row in data.iterrows():\n",
    "    folder = row['folder']\n",
    "    image_name = row['image_name']\n",
    "    coins_count = row['coins_count']\n",
    "    image_path = os.path.join(base_image_path, folder, image_name)\n",
    "\n",
    "    try:\n",
    "        image = Image.open(image_path)\n",
    "        image_np = np.array(image)\n",
    "        image_gray = image.convert('L')\n",
    "        image_gray_np = np.array(image_gray)\n",
    "        \n",
    "\n",
    "        image_data_list.append({\n",
    "            'image_path': image_path,\n",
    "            'image_np': image_np,\n",
    "            'image_gray_np': image_gray_np\n",
    "        })\n",
    "        \n",
    "\n",
    "        #print(f\"Image path: {image_path}\")\n",
    "        #print(f\"Image as NumPy array: {image_np.shape}\")\n",
    "        #print(f\"Image in grayscale as NumPy array: {image_gray_np.shape}\")\n",
    "        \n",
    "    except Exception as e:\n",
    "        print(f\"Erreur lors de la lecture de l'image {image_path}: {e}\")"
   ]
  },
  {
   "cell_type": "code",
   "execution_count": null,
   "metadata": {},
   "outputs": [],
   "source": [
    "if image_data_list:\n",
    "    first_image_data = image_data_list[88]\n",
    "    print(f\"First image path: {first_image_data['image_path']}\")\n",
    "    print(f\"First image as NumPy array shape: {first_image_data['image_np'].shape}\")\n",
    "    print(f\"First image in grayscale as NumPy array shape: {first_image_data['image_gray_np'].shape}\")\n",
    "    \n",
    "     # Afficher l'image couleur\n",
    "    plt.subplot(1, 2, 1)\n",
    "    plt.imshow(first_image_data['image_np'])\n",
    "    plt.title('Couleur')\n",
    "    \n",
    "    # Afficher l'image en niveaux de gris\n",
    "    plt.subplot(1, 2, 2)\n",
    "    plt.imshow(first_image_data['image_gray_np'], cmap='gray')\n",
    "    plt.title('Niveaux de gris')\n",
    "    \n",
    "    plt.show()"
   ]
  }
 ],
 "metadata": {
  "kernelspec": {
   "display_name": "iti-coinCounting",
   "language": "python",
   "name": "python3"
  },
  "language_info": {
   "codemirror_mode": {
    "name": "ipython",
    "version": 3
   },
   "file_extension": ".py",
   "mimetype": "text/x-python",
   "name": "python",
   "nbconvert_exporter": "python",
   "pygments_lexer": "ipython3",
   "version": "3.12.6"
  }
 },
 "nbformat": 4,
 "nbformat_minor": 4
}
